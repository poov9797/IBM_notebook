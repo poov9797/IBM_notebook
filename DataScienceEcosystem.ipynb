{
 "cells": [
  {
   "cell_type": "markdown",
   "id": "810e2919",
   "metadata": {},
   "source": [
    "# Data Science Tools and Ecosystem"
   ]
  },
  {
   "cell_type": "markdown",
   "id": "01c7a47b",
   "metadata": {},
   "source": [
    "In this notebook, Data Science Tools and Ecosystem are summarized."
   ]
  },
  {
   "cell_type": "markdown",
   "id": "ded31b94",
   "metadata": {},
   "source": [
    "**Objectives:** \n",
    "* Overview on most used Languages in data science.\n",
    "* Commonly used libraries by Data scientists.\n",
    "* Some of the Data Science tools explored.\n",
    "* Few arithmetic operations are perforemed\n",
    "* Lastly, time conversions are also done."
   ]
  },
  {
   "cell_type": "markdown",
   "id": "f9b62f0e",
   "metadata": {},
   "source": [
    "Some of the popular languages that Data Scientists use are:\n",
    "1. Python\n",
    "2. R\n",
    "3. SQL\n",
    "4. Julia"
   ]
  },
  {
   "cell_type": "markdown",
   "id": "56df18b9",
   "metadata": {},
   "source": [
    "Some of the commonly used libraries used by Data Scientists include:\n",
    "* Numpy\n",
    "* Pandas\n",
    "* Scikit-Learn\n",
    "* Seaborn\n",
    "* Matplotlib"
   ]
  },
  {
   "cell_type": "markdown",
   "id": "c2c27c91",
   "metadata": {},
   "source": [
    "|Data Science Tools|\n",
    "|:------------------|\n",
    "|Apache Spark|\n",
    "|Apache Hadoop|\n",
    "|KNIME|"
   ]
  },
  {
   "cell_type": "markdown",
   "id": "03066d45",
   "metadata": {},
   "source": [
    "### Below are a few examples of evaluating arithmetic expressions in Python:\n"
   ]
  },
  {
   "cell_type": "code",
   "execution_count": 1,
   "id": "f31ef184",
   "metadata": {},
   "outputs": [
    {
     "name": "stdout",
     "output_type": "stream",
     "text": [
      "17\n"
     ]
    }
   ],
   "source": [
    "# This a simple arithmetic expression to mutiply then add integers\n",
    "z=(3*4)+5\n",
    "print(z)"
   ]
  },
  {
   "cell_type": "code",
   "execution_count": 3,
   "id": "6ee107dd",
   "metadata": {},
   "outputs": [
    {
     "name": "stdout",
     "output_type": "stream",
     "text": [
      "200 minutes in hours is 3.3333333333333335\n"
     ]
    }
   ],
   "source": [
    "# This will convert 200 minutes to hours by diving by 60\n",
    "\n",
    "y= 200/60\n",
    "\n",
    "print(\"200 minutes in hours is\",y)"
   ]
  },
  {
   "cell_type": "markdown",
   "id": "7fa17f98",
   "metadata": {},
   "source": [
    "## Author\n",
    "\n",
    "Poovarasan Rajendiran"
   ]
  },
  {
   "cell_type": "code",
   "execution_count": null,
   "id": "4a773d93",
   "metadata": {},
   "outputs": [],
   "source": []
  }
 ],
 "metadata": {
  "kernelspec": {
   "display_name": "Python 3 (ipykernel)",
   "language": "python",
   "name": "python3"
  },
  "language_info": {
   "codemirror_mode": {
    "name": "ipython",
    "version": 3
   },
   "file_extension": ".py",
   "mimetype": "text/x-python",
   "name": "python",
   "nbconvert_exporter": "python",
   "pygments_lexer": "ipython3",
   "version": "3.9.13"
  }
 },
 "nbformat": 4,
 "nbformat_minor": 5
}
